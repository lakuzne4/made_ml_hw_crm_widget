{
 "cells": [
  {
   "cell_type": "markdown",
   "metadata": {},
   "source": [
    "## Достанем сгенерированную базу и обучим самые простые бустинги"
   ]
  },
  {
   "cell_type": "code",
   "execution_count": null,
   "metadata": {
    "ExecuteTime": {
     "end_time": "2020-12-28T11:39:42.872556Z",
     "start_time": "2020-12-28T11:39:42.059572Z"
    }
   },
   "outputs": [],
   "source": [
    "import numpy as np\n",
    "import datetime\n",
    "import random\n",
    "import pandas as pd\n",
    "from scipy.stats import lognorm\n",
    "import matplotlib.pyplot as plt\n",
    "from itertools import product\n",
    "import pickle\n",
    "\n",
    "from sklearn.pipeline import Pipeline\n",
    "from sklearn.model_selection import train_test_split\n",
    "from sklearn.base import BaseEstimator, TransformerMixin\n",
    "from sklearn.metrics import accuracy_score\n",
    "from sklearn.linear_model import LogisticRegression\n",
    "from lightgbm import LGBMClassifier\n",
    "\n",
    "from IPython.display import clear_output, display, HTML\n",
    "import ipywidgets as widgets"
   ]
  },
  {
   "cell_type": "code",
   "execution_count": null,
   "metadata": {
    "ExecuteTime": {
     "end_time": "2020-12-28T11:45:01.278850Z",
     "start_time": "2020-12-28T11:45:00.442086Z"
    }
   },
   "outputs": [],
   "source": [
    "client_base_df = pd.read_csv(\"client_base.csv\", sep=\";\", decimal=\",\", encoding=\"cp1251\")\n",
    "contact_history = pd.read_csv(\"contact_history.csv\", sep=\";\", decimal=\",\", encoding=\"cp1251\")\n",
    "\n",
    "main_train_sample = pd.merge(contact_history, client_base_df, \n",
    "                            how='inner', left_on = 'client_id',\n",
    "                            right_on = 'client_id')\n",
    "\n",
    "main_train_sample = main_train_sample.astype({\"camp_start_dt\":'datetime64[ns]', \"first_buy_dt\":'datetime64[ns]'})"
   ]
  },
  {
   "cell_type": "code",
   "execution_count": null,
   "metadata": {
    "ExecuteTime": {
     "end_time": "2020-12-28T11:45:05.431749Z",
     "start_time": "2020-12-28T11:45:01.830376Z"
    }
   },
   "outputs": [],
   "source": [
    "# обучение моделей\n",
    "sample_ids = ['promoted_product', 'channel']\n",
    "target = ['response_flg']\n",
    "train_fields = ['camp_start_dt','is_female', 'region', 'buy_frequency', 'is_new_client',\n",
    "                   'first_buy_dt', 'came_from', 'first_product', 'spent_total',\n",
    "                   'buyed_items_total_cnt', 'spent_on_teddy_bear',\n",
    "                   'spent_on_сhristmas_decorations', 'spent_on_alco', 'spent_on_bently',\n",
    "                   'spent_on_diapers', 'buyed_of_teddy_bear',\n",
    "                   'buyed_of_сhristmas_decorations', 'buyed_of_alco', 'buyed_of_bently',\n",
    "                   'buyed_of_diapers']\n",
    "\n",
    "class Model():\n",
    "    \"\"\"обёртка для модели включающая предобработчик входных данных\"\"\"\n",
    "    def __init__(self, model):\n",
    "        self.model = model\n",
    "    \n",
    "    def fit(self, X, y):\n",
    "        transformed = self.transform(X)\n",
    "        self.model.fit(transformed.values, y)\n",
    "        \n",
    "    def predict(self, X):\n",
    "        transformed = self.transform(X)\n",
    "        return self.model.predict(transformed)\n",
    "    \n",
    "    def predict_proba(self, X):\n",
    "        transformed = self.transform(X)\n",
    "        return self.model.predict_proba(transformed)\n",
    "    \n",
    "    def transform(self, df, y=None):\n",
    "        X = df.copy()\n",
    "        self.multiple_choice_options = {key:X[key].unique().tolist() for key in [\"region\", \"came_from\", \"first_product\"]}\n",
    "        \n",
    "        X.loc[:, 'client_lifetime'] = (X['camp_start_dt'] - X['first_buy_dt']).dt.days\n",
    "        X = pd.concat((X, pd.get_dummies(X.region, prefix='region').drop(columns=\"region\" + \"_\" + \"Мордор\")), axis=1)\n",
    "        X = pd.concat((X, pd.get_dummies(X.came_from, prefix='came_from',\n",
    "                                        ).drop(columns=\"came_from\" + \"_\" + \"from street\")), axis=1)\n",
    "        X = pd.concat((X, pd.get_dummies(X.first_product, prefix='first_product')\\\n",
    "                       .drop(columns='first_product' + \"_\" + 'Алкоголь')), axis=1)\n",
    "\n",
    "\n",
    "        X = X.drop(columns=['camp_id', 'promoted_product', 'channel', 'client_id' , 'region', 'first_buy_dt', \n",
    "                            'camp_start_dt', 'came_from', 'first_product', 'response_flg'])\n",
    "        return X\n",
    "\n",
    "product_x_channel_unique = main_train_sample[sample_ids].drop_duplicates().reset_index(drop=True).values\n",
    "\n",
    "model_collection = {}\n",
    "\n",
    "for prod, channel in product_x_channel_unique:\n",
    "    X = main_train_sample.loc[(main_train_sample.promoted_product == prod) & \n",
    "                          (main_train_sample.channel == channel)].copy()\n",
    "    y = main_train_sample.loc[(main_train_sample.promoted_product == prod) & \n",
    "                          (main_train_sample.channel == channel)].copy().response_flg.astype(int)\n",
    "    \n",
    "    model = Model(LGBMClassifier(boosting_type='gbdt', max_depth=3, learning_rage=0.1, n_estimators=200))\n",
    "    model.fit(X, y)\n",
    "    model_collection[(prod, channel)] = model\n",
    "    print(\"Model for product = {:<15}, channel = {:<17} is fitted\".format(prod, channel), \n",
    "          datetime.datetime.now().strftime(\"%H-%M-%S.%f\"))"
   ]
  },
  {
   "cell_type": "code",
   "execution_count": null,
   "metadata": {
    "ExecuteTime": {
     "end_time": "2020-12-28T11:45:06.118913Z",
     "start_time": "2020-12-28T11:45:06.089045Z"
    }
   },
   "outputs": [],
   "source": [
    "output = widgets.Output()\n",
    "result_output = widgets.Output()\n",
    "\n",
    "# check = widgets.Button(description=\"main button\")\n",
    "choose_product_widget = widgets.Dropdown(options=list(set([i[0] for i in list(model_collection.keys())])),\n",
    "                 value=list(set([i[0] for i in list(model_collection.keys())]))[0],\n",
    "                 description=\"Какой продукт продвигать:\",\n",
    "                 layout=widgets.Layout(width=\"50%\"), \n",
    "                 style={\"description_width\":\"50%\"})\n",
    "\n",
    "choose_channel_widget = widgets.Dropdown(options=list(set([i[1] for i in list(model_collection.keys())])),\n",
    "                 value=list(set([i[1] for i in list(model_collection.keys())]))[0],\n",
    "                 description=\"Через какой канал:\",\n",
    "                 layout=widgets.Layout(width=\"50%\"), \n",
    "                 style={\"description_width\":\"50%\"})\n",
    "\n",
    "@choose_product_widget.observe\n",
    "def some_func(w):\n",
    "    if w['type'] == 'change' and w['name'] == 'value':\n",
    "        # model = np.random.choice(list(model_collection.values()))\n",
    "        by_product = w['new']\n",
    "        by_channel = choose_channel_widget.value\n",
    "        model = model_collection[(by_product, by_channel)]\n",
    "        my_widgets = get_widgets(model, result_output)\n",
    "        \n",
    "        with output:\n",
    "            clear_output(wait=True)\n",
    "            display(widgets.HBox([widgets.VBox(list(my_widgets.values())), result_output]))\n",
    "        tmp = my_widgets['spent_total'].value\n",
    "        my_widgets['spent_total'].value = 23000\n",
    "        my_widgets['spent_total'].value = tmp\n",
    "        \n",
    "\n",
    "@choose_channel_widget.observe\n",
    "def some_func(w):\n",
    "    if w['type'] == 'change' and w['name'] == 'value':\n",
    "        by_product = choose_product_widget.value\n",
    "        by_channel = w['new']\n",
    "        model = model_collection[(by_product, by_channel)]\n",
    "        my_widgets = get_widgets(model, result_output)\n",
    "        \n",
    "        with output:\n",
    "            clear_output(wait=True)\n",
    "            display(widgets.HBox([widgets.VBox(list(my_widgets.values())), result_output]))\n",
    "        tmp = my_widgets['spent_total'].value\n",
    "        my_widgets['spent_total'].value = 23000\n",
    "        my_widgets['spent_total'].value = tmp\n",
    "        \n",
    "    \n",
    "display(widgets.VBox([choose_product_widget, choose_channel_widget, output]))\n",
    "choose_channel_widget.value = 'Санта-Клаус'"
   ]
  },
  {
   "cell_type": "code",
   "execution_count": null,
   "metadata": {},
   "outputs": [],
   "source": [
    "with open(\"model_collection.pkl\", \"wb\") as f:\n",
    "    pickle.dump(model_collection, f)"
   ]
  },
  {
   "cell_type": "code",
   "execution_count": null,
   "metadata": {
    "ExecuteTime": {
     "end_time": "2020-12-28T08:05:36.189231Z",
     "start_time": "2020-12-28T08:05:36.184245Z"
    }
   },
   "outputs": [],
   "source": [
    "X.columns"
   ]
  },
  {
   "cell_type": "markdown",
   "metadata": {},
   "source": [
    "## Scoring"
   ]
  },
  {
   "cell_type": "code",
   "execution_count": 1,
   "metadata": {
    "ExecuteTime": {
     "end_time": "2020-12-28T11:57:21.638962Z",
     "start_time": "2020-12-28T11:57:20.846076Z"
    }
   },
   "outputs": [],
   "source": [
    "import numpy as np\n",
    "import datetime\n",
    "import random\n",
    "import pandas as pd\n",
    "from scipy.stats import lognorm\n",
    "import matplotlib.pyplot as plt\n",
    "from itertools import product\n",
    "import pickle\n",
    "\n",
    "from sklearn.pipeline import Pipeline\n",
    "from sklearn.model_selection import train_test_split\n",
    "from sklearn.base import BaseEstimator, TransformerMixin\n",
    "from sklearn.metrics import accuracy_score\n",
    "from sklearn.linear_model import LogisticRegression\n",
    "from lightgbm import LGBMClassifier\n",
    "\n",
    "from IPython.display import clear_output, display, HTML\n",
    "import ipywidgets as widgets\n",
    "\n",
    "class Model():\n",
    "    \"\"\"обёртка для модели включающая предобработчик входных данных\"\"\"\n",
    "    def __init__(self, model):\n",
    "        self.model = model\n",
    "    \n",
    "    def fit(self, X, y):\n",
    "        transformed = self.transform(X)\n",
    "        self.model.fit(transformed.values, y)\n",
    "        \n",
    "    def predict(self, X):\n",
    "        transformed = self.transform(X)\n",
    "        return self.model.predict(transformed)\n",
    "    \n",
    "    def predict_proba(self, X):\n",
    "        transformed = self.transform(X)\n",
    "        return self.model.predict_proba(transformed)\n",
    "    \n",
    "    def transform(self, df, y=None):\n",
    "        X = df.copy()\n",
    "        self.multiple_choice_options = {key:X[key].unique().tolist() for key in [\"region\", \"came_from\", \"first_product\"]}\n",
    "        \n",
    "        X.loc[:, 'client_lifetime'] = (X['camp_start_dt'] - X['first_buy_dt']).dt.days\n",
    "        X = pd.concat((X, pd.get_dummies(X.region, prefix='region').drop(columns=\"region\" + \"_\" + \"Мордор\")), axis=1)\n",
    "        X = pd.concat((X, pd.get_dummies(X.came_from, prefix='came_from',\n",
    "                                        ).drop(columns=\"came_from\" + \"_\" + \"from street\")), axis=1)\n",
    "        X = pd.concat((X, pd.get_dummies(X.first_product, prefix='first_product')\\\n",
    "                       .drop(columns='first_product' + \"_\" + 'Алкоголь')), axis=1)\n",
    "\n",
    "\n",
    "        X = X.drop(columns=['camp_id', 'promoted_product', 'channel', 'client_id' , 'region', 'first_buy_dt', \n",
    "                            'camp_start_dt', 'came_from', 'first_product', 'response_flg'])\n",
    "        return X"
   ]
  },
  {
   "cell_type": "code",
   "execution_count": 2,
   "metadata": {
    "ExecuteTime": {
     "end_time": "2020-12-28T11:57:30.523210Z",
     "start_time": "2020-12-28T11:57:21.671870Z"
    }
   },
   "outputs": [],
   "source": [
    "def add_scores_to_client_base(client_base, model_collection):\n",
    "    cols_for_scoring_input = ['camp_id', 'camp_start_dt', 'promoted_product', 'channel', 'client_id',\n",
    "       'response_flg', 'is_female', 'region', 'buy_frequency', 'is_new_client',\n",
    "       'first_buy_dt', 'came_from', 'first_product', 'spent_total',\n",
    "       'buyed_items_total_cnt', 'spent_on_teddy_bear',\n",
    "       'spent_on_сhristmas_decorations', 'spent_on_alco', 'spent_on_bently',\n",
    "       'spent_on_diapers', 'buyed_of_teddy_bear',\n",
    "       'buyed_of_сhristmas_decorations', 'buyed_of_alco', 'buyed_of_bently',\n",
    "       'buyed_of_diapers']\n",
    "    \n",
    "    for col in cols_for_scoring_input:\n",
    "        if col not in client_base.columns:\n",
    "            client_base.loc[:, col] = np.nan\n",
    "            \n",
    "    product_x_channel_unique = client_base[['promoted_product', 'channel']].drop_duplicates().values\n",
    "\n",
    "    client_base.loc[:, 'camp_start_dt'] = pd.to_datetime(\"2021-01-15\")\n",
    "\n",
    "    client_base = client_base[cols_for_scoring_input]\n",
    "    client_base = client_base.astype({\"camp_start_dt\":'datetime64[ns]', \"first_buy_dt\":'datetime64[ns]'})\n",
    "    \n",
    "    for prod, channel in model_collection:\n",
    "        X = client_base[cols_for_scoring_input]\n",
    "        score_col_name = prod+\"_\" + channel +\"_score\"\n",
    "        client_base.loc[:, score_col_name] = model_collection[(prod, channel)].predict_proba(X)[:, 1]\n",
    "    return client_base\n",
    "\n",
    "\n",
    "\n",
    "client_base_to_score = pd.read_csv(\"scored_client_base.csv\", \n",
    "                                   sep=\";\", decimal=\",\", encoding=\"cp1251\")\n",
    "\n",
    "with open(\"model_collection.pkl\", \"rb\") as f:\n",
    "    model_collection = pickle.load(f)\n",
    "        \n",
    "client_base_to_show = add_scores_to_client_base(client_base_to_score, model_collection)"
   ]
  }
 ],
 "metadata": {
  "hide_input": false,
  "kernelspec": {
   "display_name": "Python 3",
   "language": "python",
   "name": "python3"
  },
  "language_info": {
   "codemirror_mode": {
    "name": "ipython",
    "version": 3
   },
   "file_extension": ".py",
   "mimetype": "text/x-python",
   "name": "python",
   "nbconvert_exporter": "python",
   "pygments_lexer": "ipython3",
   "version": "3.7.6"
  },
  "toc": {
   "base_numbering": 1,
   "nav_menu": {},
   "number_sections": true,
   "sideBar": true,
   "skip_h1_title": false,
   "title_cell": "Table of Contents",
   "title_sidebar": "Contents",
   "toc_cell": false,
   "toc_position": {},
   "toc_section_display": true,
   "toc_window_display": false
  },
  "varInspector": {
   "cols": {
    "lenName": 16,
    "lenType": 16,
    "lenVar": 40
   },
   "kernels_config": {
    "python": {
     "delete_cmd_postfix": "",
     "delete_cmd_prefix": "del ",
     "library": "var_list.py",
     "varRefreshCmd": "print(var_dic_list())"
    },
    "r": {
     "delete_cmd_postfix": ") ",
     "delete_cmd_prefix": "rm(",
     "library": "var_list.r",
     "varRefreshCmd": "cat(var_dic_list()) "
    }
   },
   "types_to_exclude": [
    "module",
    "function",
    "builtin_function_or_method",
    "instance",
    "_Feature"
   ],
   "window_display": false
  }
 },
 "nbformat": 4,
 "nbformat_minor": 4
}
